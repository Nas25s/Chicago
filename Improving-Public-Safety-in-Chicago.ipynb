{
  "cells": [
    {
      "cell_type": "markdown",
      "metadata": {
        "id": "eJ0v68V-yTh-"
      },
      "source": [
        "**Library Installation**\n",
        "\n",
        "\n"
      ]
    },
    {
      "cell_type": "code",
      "execution_count": null,
      "metadata": {
        "id": "b7OZ-OwqvQNX"
      },
      "outputs": [],
      "source": [
        "%%capture\n",
        "!pip install pyspark==3.5.0\n",
        "!pip install gdown"
      ]
    },
    {
      "cell_type": "markdown",
      "metadata": {
        "id": "oUADSPrjv0sB"
      },
      "source": [
        "# **Dataset**\n",
        "\n",
        "The dataset consists of incidents of crime reported in the city of Chicago from 2001 to 2019. Data is extracted from the Chicago Police Department's **CLEAR** (Citizen Law Enforcement Analysis and Reporting) system.\n",
        "\n",
        "**Link:** https://data.cityofchicago.org/Public-Safety/Crimes-2001-to-Present/ijzp-q8t2"
      ]
    },
    {
      "cell_type": "code",
      "execution_count": null,
      "metadata": {
        "id": "_yRvhcMBv2mA"
      },
      "outputs": [],
      "source": [
        "data_link = 'https://drive.google.com/u/0/uc?id=1wRGDX25AyYWw2eA771CCbvugxYrRQOtw'"
      ]
    },
    {
      "cell_type": "code",
      "execution_count": null,
      "metadata": {
        "colab": {
          "base_uri": "https://localhost:8080/"
        },
        "id": "Ss0C3jg1zLFF",
        "outputId": "a8991090-7a8b-4a87-eeb9-acb3f4df2a73"
      },
      "outputs": [
        {
          "name": "stdout",
          "output_type": "stream",
          "text": [
            "Mounted at /content/drive\n"
          ]
        }
      ],
      "source": [
        "from google.colab import drive\n",
        "drive.mount('/content/drive')"
      ]
    },
    {
      "cell_type": "code",
      "execution_count": null,
      "metadata": {
        "id": "ERpmUcFezfrS"
      },
      "outputs": [],
      "source": [
        "compressed_file_path = '/content/drive/MyDrive/CrimeInsightsRawData/Crimes_2001_to_Present.csv.zip'\n",
        "!mkdir -p /content/drive/MyDrive/CrimeInsightsRawData"
      ]
    },
    {
      "cell_type": "code",
      "execution_count": null,
      "metadata": {
        "id": "XviuBb9KeYWB"
      },
      "outputs": [],
      "source": [
        "%%capture\n",
        "import gdown\n",
        "gdown.download(data_link,compressed_file_path)"
      ]
    },
    {
      "cell_type": "code",
      "execution_count": null,
      "metadata": {
        "colab": {
          "base_uri": "https://localhost:8080/"
        },
        "id": "eeo5Y-WzhcZn",
        "outputId": "5277224c-dc47-4309-da78-ddabe82b4968"
      },
      "outputs": [
        {
          "name": "stdout",
          "output_type": "stream",
          "text": [
            "Archive:  /content/drive/MyDrive/CrimeInsightsRawData/Crimes_2001_to_Present.csv.zip\n",
            "  inflating: /content/drive/MyDrive/CrimeInsightsRawData/Crimes_2001_to_Present.csv  \n",
            "  inflating: /content/drive/MyDrive/CrimeInsightsRawData/__MACOSX/._Crimes_2001_to_Present.csv  \n"
          ]
        }
      ],
      "source": [
        "!unzip -o /content/drive/MyDrive/CrimeInsightsRawData/Crimes_2001_to_Present.csv.zip -d /content/drive/MyDrive/CrimeInsightsRawData/"
      ]
    },
    {
      "cell_type": "code",
      "execution_count": null,
      "metadata": {
        "id": "omiD9KcGhiNe"
      },
      "outputs": [],
      "source": [
        "file_path = '/content/drive/MyDrive/CrimeInsightsRawData/Crimes_2001_to_Present.csv'"
      ]
    },
    {
      "cell_type": "markdown",
      "metadata": {
        "id": "-ppLgcHpv0PH"
      },
      "source": [
        "# **Data Processing Frameworks**\n",
        "**Import the libraries needed** :\n",
        "\n",
        "*   SparkContext allows us to connect to a Spark cluster.  \n",
        "*   Spark Session which allows us to work with structured data using DataFrames and Datasets.\n",
        "*   Spark SQL which gives access to a wide variety of tools such as DataFrames, functions, data types and operations such as (select, filter, groupBy, agg)"
      ]
    },
    {
      "cell_type": "code",
      "execution_count": null,
      "metadata": {
        "id": "ZRntXjZM1HcM"
      },
      "outputs": [],
      "source": [
        "from pyspark import SparkContext\n",
        "from pyspark.sql import SparkSession\n",
        "from pyspark.sql import DataFrame\n",
        "from pyspark.sql.types import *\n",
        "from pyspark.sql.functions import *"
      ]
    },
    {
      "cell_type": "markdown",
      "metadata": {
        "id": "EJ6a9Eob5ngl"
      },
      "source": [
        "Set up the configuration for our Spark application"
      ]
    },
    {
      "cell_type": "code",
      "execution_count": null,
      "metadata": {
        "id": "b6tNKsj63xH3"
      },
      "outputs": [],
      "source": [
        "spark = SparkSession.builder.appName(\"CrimeInsights\")\\\n",
        ".config(\"spark.driver.memory\", \"10g\")\\\n",
        ".getOrCreate()"
      ]
    },
    {
      "cell_type": "markdown",
      "metadata": {
        "id": "isSm4cCp5wvb"
      },
      "source": [
        "**Defining the schema on how we will structure our DataFrame**\n",
        "\n",
        "\n",
        "*   The column name as a string\n",
        "*   The data type of the column\n",
        "*   A Boolean value indicating that null values are allowed in the column.\n",
        "\n",
        "\n",
        "\n",
        "\n"
      ]
    },
    {
      "cell_type": "code",
      "execution_count": null,
      "metadata": {
        "id": "b8Xuo5hg6d_N"
      },
      "outputs": [],
      "source": [
        "schema = StructType([StructField(\"ID\", IntegerType(), True),\n",
        "                            StructField(\"Case Number\", StringType(), True),\n",
        "                            StructField(\"Date\", StringType(), True ),\n",
        "                            StructField(\"Block\", StringType(), True),\n",
        "                            StructField(\"IUCR\", StringType(), True),\n",
        "                            StructField(\"Primary Type\", StringType(), True  ),\n",
        "                            StructField(\"Description\", StringType(), True ),\n",
        "                            StructField(\"Location Description\", StringType(), True ),\n",
        "                            StructField(\"Arrest\", BooleanType(), True),\n",
        "                            StructField(\"Domestic\", BooleanType(), True),\n",
        "                            StructField(\"Beat\", StringType(), True),\n",
        "                            StructField(\"District\", StringType(), True),\n",
        "                            StructField(\"Ward\", IntegerType(), True),\n",
        "                            StructField(\"Community Area\", IntegerType(), True),\n",
        "                            StructField(\"FBI Code\", StringType(), True ),\n",
        "                            StructField(\"X Coordinate\", DoubleType(), True),\n",
        "                            StructField(\"Y Coordinate\", DoubleType(), True ),\n",
        "                            StructField(\"Year\", IntegerType(), True),\n",
        "                            StructField(\"Updated On\", DateType(), True ),\n",
        "                            StructField(\"Latitude\", DoubleType(), True),\n",
        "                            StructField(\"Longitude\", DoubleType(), True),\n",
        "                            StructField(\"Location\", StringType(), True )\n",
        "                            ])"
      ]
    },
    {
      "cell_type": "markdown",
      "metadata": {
        "id": "DPNqLNgC7VMF"
      },
      "source": [
        "Read the CSV file, applies the schemma and stores the data in a DataFrame\n",
        "\n"
      ]
    },
    {
      "cell_type": "code",
      "execution_count": null,
      "metadata": {
        "colab": {
          "base_uri": "https://localhost:8080/"
        },
        "id": "M2sjOwgv3_Eh",
        "outputId": "7d24558e-3308-4e7d-dd8f-c2c17f25801a"
      },
      "outputs": [
        {
          "name": "stdout",
          "output_type": "stream",
          "text": [
            "+--------+-----------+--------------------+--------------------+----+--------------------+--------------------+--------------------+------+--------+----+--------+----+--------------+--------+------------+------------+----+----------+------------+-------------+--------------------+\n",
            "|      ID|Case Number|                Date|               Block|IUCR|        Primary Type|         Description|Location Description|Arrest|Domestic|Beat|District|Ward|Community Area|FBI Code|X Coordinate|Y Coordinate|Year|Updated On|    Latitude|    Longitude|            Location|\n",
            "+--------+-----------+--------------------+--------------------+----+--------------------+--------------------+--------------------+------+--------+----+--------+----+--------------+--------+------------+------------+----+----------+------------+-------------+--------------------+\n",
            "|11646166|   JC213529|09/01/2018 12:01:...|082XX S INGLESIDE...|0810|               THEFT|           OVER $500|           RESIDENCE| false|    true|0631|     006|   8|            44|      06|        NULL|        NULL|2018|      NULL|        NULL|         NULL|                NULL|\n",
            "|11645836|   JC212333|05/01/2016 12:25:...| 055XX S ROCKWELL ST|1153|  DECEPTIVE PRACTICE|FINANCIAL IDENTIT...|                NULL| false|   false|0824|     008|  15|            63|      11|        NULL|        NULL|2016|      NULL|        NULL|         NULL|                NULL|\n",
            "|11449702|   JB373031|07/31/2018 01:30:...|009XX E HYDE PARK...|2024|           NARCOTICS| POSS: HEROIN(WHITE)|              STREET|  true|   false|0233|     002|   5|            41|      18|        NULL|        NULL|2018|      NULL|        NULL|         NULL|                NULL|\n",
            "|11643334|   JC209972|12/19/2018 04:30:...|056XX W WELLINGTO...|1320|     CRIMINAL DAMAGE|          TO VEHICLE|              STREET| false|   false|2514|     025|  31|            19|      14|        NULL|        NULL|2018|      NULL|        NULL|         NULL|                NULL|\n",
            "|11645527|   JC212744|02/02/2015 10:00:...|  069XX W ARCHER AVE|1153|  DECEPTIVE PRACTICE|FINANCIAL IDENTIT...|               OTHER| false|   false|0811|     008|  23|            56|      11|        NULL|        NULL|2015|      NULL|        NULL|         NULL|                NULL|\n",
            "|11034701|   JA366925|01/01/2001 11:00:...|     016XX E 86TH PL|1153|  DECEPTIVE PRACTICE|FINANCIAL IDENTIT...|           RESIDENCE| false|   false|0412|     004|   8|            45|      11|        NULL|        NULL|2001|      NULL|        NULL|         NULL|                NULL|\n",
            "|10224881|   HY411873|09/03/2015 06:00:...|044XX S UNIVERSIT...|1310|     CRIMINAL DAMAGE|         TO PROPERTY|           RESIDENCE| false|   false|0222|     002|   4|            39|      14|   1184667.0|   1875669.0|2015|      NULL| 41.81399924|-87.598137918|(41.81399924, -87...|\n",
            "|11230640|   JB152083|12/04/2017 12:00:...|035XX S MICHIGAN AVE|4650|       OTHER OFFENSE|SEX OFFENDER: FAI...|GOVERNMENT BUILDI...|  true|   false|0213|     002|   3|            35|      26|        NULL|        NULL|2017|      NULL|        NULL|         NULL|                NULL|\n",
            "|11645648|   JC212959|01/01/2018 08:00:...| 024XX N MONITOR AVE|1153|  DECEPTIVE PRACTICE|FINANCIAL IDENTIT...|           RESIDENCE| false|   false|2515|     025|  30|            19|      11|        NULL|        NULL|2018|      NULL|        NULL|         NULL|                NULL|\n",
            "|11645959|   JC211511|12/20/2018 04:00:...|  045XX N ALBANY AVE|2820|       OTHER OFFENSE|    TELEPHONE THREAT|           RESIDENCE| false|   false|1724|     017|  33|            14|     08A|        NULL|        NULL|2018|      NULL|        NULL|         NULL|                NULL|\n",
            "|11645557|   JC212685|04/01/2018 12:01:...|  080XX S VERNON AVE|1153|  DECEPTIVE PRACTICE|FINANCIAL IDENTIT...|           RESIDENCE| false|   false|0631|     006|   6|            44|      11|        NULL|        NULL|2018|      NULL|        NULL|         NULL|                NULL|\n",
            "|10225155|   HY412177|09/05/2015 10:42:...|007XX W IRVING PA...|0470|PUBLIC PEACE VIOL...|    RECKLESS CONDUCT|              STREET|  true|   false|1915|     019|  46|             3|      24|   1170563.0|   1926785.0|2015|      NULL|41.954584472|-87.648375776|(41.954584472, -8...|\n",
            "|11223717|   JB141803|02/04/2018 03:25:...|044XX W WASHINGTO...|1153|  DECEPTIVE PRACTICE|FINANCIAL IDENTIT...|                NULL| false|   false|1113|     011|  28|            26|      11|        NULL|        NULL|2018|      NULL|        NULL|         NULL|                NULL|\n",
            "|11160773|   JA515078|11/17/2017 09:45:...| 033XX W FILLMORE ST|1812|           NARCOTICS|POSS: CANNABIS MO...|POLICE FACILITY/V...|  true|   false|1134|     011|  24|            29|      18|        NULL|        NULL|2017|      NULL|        NULL|         NULL|                NULL|\n",
            "|11645601|   JC212935|06/01/2014 12:01:...| 087XX S SANGAMON ST|1153|  DECEPTIVE PRACTICE|FINANCIAL IDENTIT...|           RESIDENCE| false|   false|2222|     022|  21|            71|      11|        NULL|        NULL|2014|      NULL|        NULL|         NULL|                NULL|\n",
            "|10225206|   HY412253|09/06/2015 01:10:...|    047XX S STATE ST|041A|             BATTERY| AGGRAVATED: HANDGUN|     VACANT LOT/LAND| false|   false|0224|     002|   3|            38|     04B|   1177070.0|   1873609.0|2015|      NULL| 41.80852139| -87.62606631|(41.80852139, -87...|\n",
            "|11646293|   JC213749|12/20/2018 03:00:...|023XX N LOCKWOOD AVE|1154|  DECEPTIVE PRACTICE|FINANCIAL IDENTIT...|           APARTMENT| false|   false|2515|     025|  36|            19|      11|        NULL|        NULL|2018|      NULL|        NULL|         NULL|                NULL|\n",
            "|10225234|   HY412306|09/06/2015 02:00:...|002XX N ST LOUIS AVE|0420|             BATTERY|AGGRAVATED:KNIFE/...|            SIDEWALK| false|   false|1123|     011|  28|            27|     04B|   1153006.0|   1901570.0|2015|      NULL|41.885759278|-87.713588042|(41.885759278, -8...|\n",
            "|11645833|   JC213044|05/05/2012 12:25:...|     057XX W OHIO ST|1153|  DECEPTIVE PRACTICE|FINANCIAL IDENTIT...|                NULL| false|   false|1511|     015|  29|            25|      11|        NULL|        NULL|2012|      NULL|        NULL|         NULL|                NULL|\n",
            "|11227287|   JB147188|10/08/2017 03:00:...|  092XX S RACINE AVE|0281| CRIM SEXUAL ASSAULT|      NON-AGGRAVATED|           RESIDENCE| false|   false|2222|     022|  21|            73|      02|        NULL|        NULL|2017|      NULL|        NULL|         NULL|                NULL|\n",
            "+--------+-----------+--------------------+--------------------+----+--------------------+--------------------+--------------------+------+--------+----+--------+----+--------------+--------+------------+------------+----+----------+------------+-------------+--------------------+\n",
            "only showing top 20 rows\n",
            "\n"
          ]
        }
      ],
      "source": [
        "df = spark.read.csv(file_path,header=True,schema=schema)\n",
        "df.show()"
      ]
    },
    {
      "cell_type": "markdown",
      "metadata": {
        "id": "blI1kxxr7w9s"
      },
      "source": [
        "Drop the columns that are not relevant to our analysis and convert the date column to a timestamp format.\n",
        "\n",
        "This is how our data schema looks like after we have dropped specific columns from the DataFrame (df), converting one of the remaining columns ('date') to a timestamp format, and then displaying the resulting DataFrame."
      ]
    },
    {
      "cell_type": "code",
      "execution_count": null,
      "metadata": {
        "id": "_uzvFQga4JTq"
      },
      "outputs": [],
      "source": [
        "\n",
        "casted_df = df.withColumn('Date',to_timestamp(col('date'),'MM/dd/yyyy hh:mm:ss a'))\n",
        "# casted_df.show()"
      ]
    },
    {
      "cell_type": "code",
      "execution_count": null,
      "metadata": {
        "id": "swd8RQ0c-Y2a"
      },
      "outputs": [],
      "source": [
        "parquet_path = '/content/drive/MyDrive/CrimeInsightParquet/'"
      ]
    },
    {
      "cell_type": "code",
      "execution_count": null,
      "metadata": {
        "colab": {
          "background_save": true
        },
        "id": "pN_tYe7w9OVm"
      },
      "outputs": [],
      "source": [
        "casted_df.write.parquet(parquet_path,mode='overwrite')"
      ]
    },
    {
      "cell_type": "code",
      "execution_count": null,
      "metadata": {
        "colab": {
          "background_save": true
        },
        "id": "gzSz7zTs7Jap"
      },
      "outputs": [],
      "source": [
        "parqued_df = casted_df\n",
        "# parqued_df = spark.read.parquet(parquet_path)\n",
        "# parqued_df.count()"
      ]
    },
    {
      "cell_type": "code",
      "execution_count": null,
      "metadata": {
        "colab": {
          "background_save": true
        },
        "id": "-HA0eViLTMCE"
      },
      "outputs": [],
      "source": [
        "CrimemMapping = [\n",
        "    (\"THEFT\", False),\n",
        "    (\"BATTERY\", True),\n",
        "    (\"CRIMINAL DAMAGE\", True),\n",
        "    (\"NARCOTICS\", False),\n",
        "    (\"ASSAULT\", True),\n",
        "    (\"OTHER OFFENSE\", False),\n",
        "    (\"BURGLARY\", False),\n",
        "    (\"MOTOR VEHICLE THEFT\", False),\n",
        "    (\"DECEPTIVE PRACTICE\", False),\n",
        "    (\"ROBBERY\", True),\n",
        "    (\"CRIMINAL TRESPASS\", True),\n",
        "    (\"WEAPONS VIOLATION\", True),\n",
        "    (\"PROSTITUTION\", False),\n",
        "    (\"OFFENSE INVOLVING CHILDREN\", True),\n",
        "    (\"PUBLIC PEACE VIOLATION\", True),\n",
        "    (\"SEX OFFENSE\", True),\n",
        "    (\"CRIM SEXUAL ASSAULT\", True),\n",
        "    (\"INTERFERENCE WITH PUBLIC OFFICER\", True),\n",
        "    (\"LIQUOR LAW VIOLATION\", False),\n",
        "    (\"GAMBLING\", False),\n",
        "    (\"ARSON\", True),\n",
        "    (\"HOMICIDE\", True),\n",
        "    (\"CRIMINAL SEXUAL ASSAULT\", True),\n",
        "    (\"KIDNAPPING\", True),\n",
        "    (\"STALKING\", True),\n",
        "    (\"INTIMIDATION\", True),\n",
        "    (\"CONCEALED CARRY LICENSE VIOLATION\", True),\n",
        "    (\"OBSCENITY\", False),\n",
        "    (\"PUBLIC INDECENCY\", True),\n",
        "    (\"NON-CRIMINAL\", False),\n",
        "    (\"OTHER NARCOTIC VIOLATION\", False),\n",
        "    (\"HUMAN TRAFFICKING\", True),\n",
        "    (\"NON - CRIMINAL\", False),\n",
        "    (\"RITUALISM\", False),\n",
        "    (\"NON-CRIMINAL (SUBJECT SPECIFIED)\", False),\n",
        "    (\"DOMESTIC VIOLENCE\", True)\n",
        "]\n",
        "Violent_Crimes = set()\n",
        "for crime in CrimemMapping:\n",
        "  if crime[1]:\n",
        "    Violent_Crimes.add(crime[0])"
      ]
    },
    {
      "cell_type": "markdown",
      "metadata": {
        "id": "nWL_eu_r8M2W"
      },
      "source": [
        "# **Counting Rows in the Dataframe**\n",
        "\n",
        "1. Drop the rows with missing values, Total number of rows in the DataFrame parqued_df including rows with missing or null values."
      ]
    },
    {
      "cell_type": "markdown",
      "metadata": {
        "id": "NFf73oo18UJz"
      },
      "source": [
        "2. Filter out the rows that are not of interest to focus on specific categories, (fieltered_df) returns a DataFrame that contains the filtered rows"
      ]
    },
    {
      "cell_type": "markdown",
      "metadata": {
        "id": "FvM7WQ_c8l_u"
      },
      "source": [
        "# **Data Tranformation**\n",
        "\n",
        "1. The first 'when' clause checks if the \"Primary_Type\" is either 'CRIM SEXUAL ASSAULT' or 'PROSTITUTION'. If the condition is met, it assigns the value 'SEX OFFENSE' to the \"Primary_Type\" column.\n",
        "\n",
        "2. The second when clause checks if the \"Primary_Type\" is either 'WEAPONS VIOLATION' or 'INTERFERENCE WITH PUBLIC OFFICER'. If the condition is met, it assigns the value 'PUBLIC PEACE VIOLATION' to the \"Primary_Type\" column.\n",
        "3. The third when clause checks if the \"Primary_Type\" is 'ARSON'. If the condition is met, it assigns the value 'CRIMINAL TRESPASS' to the \"Primary_Type\" column.\n",
        "4. The otherwise clause is used as a fallback, so if none of the previous conditions are met, it keeps the original value of the \"Primary_Type\" column."
      ]
    },
    {
      "cell_type": "code",
      "execution_count": null,
      "metadata": {
        "colab": {
          "background_save": true
        },
        "id": "VUci3ThtCdng"
      },
      "outputs": [],
      "source": [
        "transformed_df = parqued_df.withColumnRenamed(\"Primary Type\",\"Primary_Type\")\n",
        "transformed_df = transformed_df.withColumn(\"Primary_Type\",\n",
        "          when((col(\"Primary_Type\").isin ('CRIM SEXUAL ASSAULT','PROSTITUTION')) ,'SEX OFFENSE')\n",
        "          .when((col(\"Primary_Type\").isin('WEAPONS VIOLATION','INTERFERENCE WITH PUBLIC OFFICER')) ,'PUBLIC PEACE VIOLATION')\n",
        "          .when((col(\"Primary_Type\") == 'ARSON') ,'CRIMINAL TRESPASS')\n",
        "          .otherwise(col(\"Primary_Type\")))\n",
        "\n",
        "# filtered_df.show()\n",
        "transformed_df = transformed_df.withColumn(\"ViolentCrime\",\n",
        "          when((col(\"Primary_Type\").isin (Violent_Crimes)) ,\"Yes\")\n",
        "          .otherwise(\"No\"))\n",
        "\n",
        "# filtered_df.show()\n",
        "\n",
        "transformed_df=transformed_df.withColumn(\"Week\", weekofyear(col('date')))\n",
        "transformed_df=transformed_df.withColumn(\"DayOfWeek\", dayofweek(col('date')))"
      ]
    },
    {
      "cell_type": "markdown",
      "metadata": {
        "id": "Li4tCxep73yz"
      },
      "source": []
    },
    {
      "cell_type": "code",
      "execution_count": null,
      "metadata": {
        "colab": {
          "background_save": true
        },
        "id": "tqzBT4EuE65G"
      },
      "outputs": [],
      "source": [
        "filtered_parquet_path = '/content/drive/MyDrive/CrimeInsightParquetFiltered/'"
      ]
    },
    {
      "cell_type": "code",
      "execution_count": null,
      "metadata": {
        "colab": {
          "background_save": true
        },
        "id": "IPpv61Yq4u7U"
      },
      "outputs": [],
      "source": [
        "filtered_csv_path = '/content/drive/MyDrive/CrimeInsightCSVFiltered/'"
      ]
    },
    {
      "cell_type": "code",
      "execution_count": null,
      "metadata": {
        "id": "JlBs-xtRE4jL"
      },
      "outputs": [],
      "source": [
        "# transformed_df.coalesce(1).write.parquet(filtered_parquet_path,mode='overwrite')"
      ]
    },
    {
      "cell_type": "markdown",
      "metadata": {
        "id": "zSUK_Mun75R1"
      },
      "source": []
    },
    {
      "cell_type": "code",
      "execution_count": null,
      "metadata": {
        "colab": {
          "background_save": true
        },
        "id": "MPNumQN24zRe"
      },
      "outputs": [],
      "source": [
        "transformed_df.coalesce(1).write.csv(filtered_csv_path,mode='overwrite',header = True)"
      ]
    },
    {
      "cell_type": "code",
      "execution_count": null,
      "metadata": {
        "id": "jPH-D7eFAfSU"
      },
      "outputs": [],
      "source": [
        "transformed_df= spark.read.parquet(filtered_parquet_path)"
      ]
    },
    {
      "cell_type": "code",
      "execution_count": null,
      "metadata": {
        "colab": {
          "base_uri": "https://localhost:8080/"
        },
        "id": "rYj-YJ_24Ua9",
        "outputId": "38c52c3f-a5c7-4bc0-8736-c4b7665050b9"
      },
      "outputs": [
        {
          "name": "stdout",
          "output_type": "stream",
          "text": [
            "root\n",
            " |-- ID: integer (nullable = true)\n",
            " |-- Case Number: string (nullable = true)\n",
            " |-- Date: timestamp (nullable = true)\n",
            " |-- Block: string (nullable = true)\n",
            " |-- IUCR: string (nullable = true)\n",
            " |-- Primary_Type: string (nullable = true)\n",
            " |-- Description: string (nullable = true)\n",
            " |-- Location Description: string (nullable = true)\n",
            " |-- Arrest: boolean (nullable = true)\n",
            " |-- Domestic: boolean (nullable = true)\n",
            " |-- Beat: string (nullable = true)\n",
            " |-- District: string (nullable = true)\n",
            " |-- Ward: integer (nullable = true)\n",
            " |-- Community Area: integer (nullable = true)\n",
            " |-- FBI Code: string (nullable = true)\n",
            " |-- X Coordinate: double (nullable = true)\n",
            " |-- Y Coordinate: double (nullable = true)\n",
            " |-- Year: integer (nullable = true)\n",
            " |-- Updated On: date (nullable = true)\n",
            " |-- Latitude: double (nullable = true)\n",
            " |-- Longitude: double (nullable = true)\n",
            " |-- Location: string (nullable = true)\n",
            " |-- ViolentCrime: string (nullable = false)\n",
            " |-- Week: integer (nullable = true)\n",
            " |-- DayOfWeek: integer (nullable = true)\n",
            "\n"
          ]
        }
      ],
      "source": [
        "transformed_df.printSchema()"
      ]
    },
    {
      "cell_type": "code",
      "execution_count": null,
      "metadata": {
        "id": "HEdowYScKcli"
      },
      "outputs": [],
      "source": [
        "drop_columns = ['date','ID','Case Number','FBI Code','Updated On','IUCR','X Coordinate','Y Coordinate','Arrest','Location','Domestic','Description','Block','Latitude','Longitude','District','Ward']\n",
        "transformed_df = transformed_df.drop(*drop_columns)\n",
        "transformed_df = transformed_df.na.drop()\n",
        "# transformed_df.count()"
      ]
    },
    {
      "cell_type": "code",
      "execution_count": null,
      "metadata": {
        "id": "g8qnMelM-dG-"
      },
      "outputs": [],
      "source": [
        "# filter_values = {'STALKING','OBSCENITY','NON-CRIMINAL (SUBJECT SPECIFIED)','GAMBLING','NON - CRIMINAL','LIQUOR LAW VIOLATION','PUBLIC INDECENCY','HUMAN TRAFFICKING','INTIMIDATION','CONCEALED CARRY LICENSE VIOLATION','NON-CRIMINAL','OTHER NARCOTIC VIOLATION'}\n",
        "# non_na_df = non_na_df.withColumnRenamed('Primary Type','Primary_Type')\n",
        "# filtered_df = non_na_df.filter(~non_na_df.Primary_Type.isin(filter_values))\n",
        "# filtered_df.count()\n",
        "# filtered_df = non_na_df"
      ]
    },
    {
      "cell_type": "code",
      "execution_count": null,
      "metadata": {
        "colab": {
          "base_uri": "https://localhost:8080/"
        },
        "id": "GJa3261fFQ_O",
        "outputId": "7979a3eb-00b7-4532-b5bf-c261684ebf24"
      },
      "outputs": [
        {
          "name": "stdout",
          "output_type": "stream",
          "text": [
            "root\n",
            " |-- Primary_Type: string (nullable = true)\n",
            " |-- Location Description: string (nullable = true)\n",
            " |-- Beat: string (nullable = true)\n",
            " |-- Community Area: integer (nullable = true)\n",
            " |-- Year: integer (nullable = true)\n",
            " |-- ViolentCrime: string (nullable = true)\n",
            " |-- Week: integer (nullable = true)\n",
            " |-- DayOfWeek: integer (nullable = true)\n",
            "\n"
          ]
        }
      ],
      "source": [
        "transformed_df.printSchema()"
      ]
    },
    {
      "cell_type": "markdown",
      "metadata": {
        "id": "6ChpngyGHRqB"
      },
      "source": [
        "**Import Machine Learning libraries and vectorizers to perform feature extraction and train our models**\n",
        "\n",
        "\n",
        "*   VectorAssembler will allow us to transform our input data in vector format.\n",
        "*   StringIndexer allows us to use a feature transformer that encodes a string column of labels into numbers and VectorIndexer which automatically identify and index categorical features.\n",
        "*   IndexToString convert numerical labels to their original string labels after the model has made its predictions.\n",
        "*   RandomForestClassifier which is a machine learning classifier that leverages a collection of decision trees to make predictions based on a majority vote.\n",
        "*   MulticlassClassificationEvaluator used to evaluate the performance of the models\n",
        "*   Pipeline used to develop a machine learning pipeline\n",
        "\n",
        "\n",
        "\n",
        "\n",
        "\n",
        "\n",
        "\n",
        "\n",
        "\n"
      ]
    },
    {
      "cell_type": "code",
      "execution_count": null,
      "metadata": {
        "id": "gelxC3Muozix"
      },
      "outputs": [],
      "source": []
    },
    {
      "cell_type": "code",
      "execution_count": null,
      "metadata": {
        "id": "yukEaJVpHT8n"
      },
      "outputs": [],
      "source": [
        "from pyspark.ml.feature import VectorAssembler, StringIndexer, VectorIndexer, IndexToString\n",
        "from pyspark.ml.classification import RandomForestClassifier\n",
        "from pyspark.ml.evaluation import MulticlassClassificationEvaluator\n",
        "from pyspark.ml import Pipelinea\n",
        "from pyspark.mllib.tree import RandomForest\n",
        "from pyspark.ml.linalg import Vectors\n",
        "from pyspark.ml.feature import VectorAssembler"
      ]
    },
    {
      "cell_type": "markdown",
      "metadata": {
        "id": "FliF6uku_o_m"
      },
      "source": [
        "Extract the week of the year from the date column and drop the date column"
      ]
    },
    {
      "cell_type": "code",
      "execution_count": null,
      "metadata": {
        "colab": {
          "base_uri": "https://localhost:8080/"
        },
        "id": "0bMDPZ_wJfDO",
        "outputId": "b1fdbadf-b5d5-4dab-a69d-d9d79b8464de"
      },
      "outputs": [
        {
          "name": "stdout",
          "output_type": "stream",
          "text": [
            "root\n",
            " |-- Primary_Type: string (nullable = true)\n",
            " |-- Location Description: string (nullable = true)\n",
            " |-- Beat: string (nullable = true)\n",
            " |-- Community Area: integer (nullable = true)\n",
            " |-- Year: integer (nullable = true)\n",
            " |-- ViolentCrime: string (nullable = true)\n",
            " |-- Week: integer (nullable = true)\n",
            " |-- DayOfWeek: integer (nullable = true)\n",
            " |-- Primary_Type_index: double (nullable = false)\n",
            " |-- Location Description_index: double (nullable = false)\n",
            " |-- Beat_index: double (nullable = false)\n",
            " |-- ViolentCrime_index: double (nullable = false)\n",
            "\n"
          ]
        }
      ],
      "source": [
        "from pyspark.ml.stat import Correlation\n",
        "from pyspark.ml.feature import VectorAssembler\n",
        "\n",
        "string_columns = ['Primary_Type','Location Description','Beat','ViolentCrime']\n",
        "indexers = [StringIndexer(inputCol=column, outputCol= column+'_index').setHandleInvalid(\"skip\").fit(transformed_df) for column in string_columns ]\n",
        "pipeline = Pipeline(stages=indexers)\n",
        "transformed_df = pipeline.fit(transformed_df).transform(transformed_df)\n",
        "df_r = transformed_df\n",
        "# df_r.show()\n",
        "df_r.printSchema()"
      ]
    },
    {
      "cell_type": "code",
      "execution_count": null,
      "metadata": {
        "colab": {
          "base_uri": "https://localhost:8080/"
        },
        "id": "eaW4lE5mLATS",
        "outputId": "6275f38f-3adb-498c-e784-3f0073c77387"
      },
      "outputs": [
        {
          "name": "stdout",
          "output_type": "stream",
          "text": [
            "root\n",
            " |-- Community Area: integer (nullable = true)\n",
            " |-- Year: integer (nullable = true)\n",
            " |-- Week: integer (nullable = true)\n",
            " |-- DayOfWeek: integer (nullable = true)\n",
            " |-- Primary_Type_index: double (nullable = false)\n",
            " |-- Location Description_index: double (nullable = false)\n",
            " |-- Beat_index: double (nullable = false)\n",
            " |-- ViolentCrime_index: double (nullable = false)\n",
            "\n"
          ]
        }
      ],
      "source": [
        "t_df = df_r.drop(*string_columns)\n",
        "# t_df.show()\n",
        "t_df.printSchema()"
      ]
    },
    {
      "cell_type": "code",
      "execution_count": null,
      "metadata": {
        "id": "n_MvlTT-HeL2"
      },
      "outputs": [],
      "source": [
        "# convert to vector column first\n",
        "vector_col = \"corr_features\"\n",
        "assembler = VectorAssembler(inputCols= t_df.columns, outputCol=vector_col)\n",
        "df_vector = assembler.transform(t_df).select(vector_col)\n",
        "\n",
        "# get correlation matrix\n",
        "matrix = Correlation.corr(df_vector, vector_col)\n",
        "# matrix.collect()[0][\"pearson({})\".format(vector_col)].values\n"
      ]
    },
    {
      "cell_type": "code",
      "execution_count": null,
      "metadata": {
        "id": "LheRDNZDL92N"
      },
      "outputs": [],
      "source": [
        "import pandas as pd\n",
        "corr_matrix = matrix.collect()[0][0].toArray().tolist()\n",
        "corr_matrix_df = pd.DataFrame(data=corr_matrix, columns = t_df.columns, index=t_df.columns)"
      ]
    },
    {
      "cell_type": "code",
      "execution_count": null,
      "metadata": {
        "id": "yyO-Kz00qN72"
      },
      "outputs": [],
      "source": []
    },
    {
      "cell_type": "code",
      "execution_count": null,
      "metadata": {
        "colab": {
          "base_uri": "https://localhost:8080/",
          "height": 635
        },
        "id": "EC6hI--cNj_S",
        "outputId": "8ee5e128-4015-4da0-b504-826f0fbc6c7c"
      },
      "outputs": [
        {
          "data": {
            "text/plain": [
              "<Axes: >"
            ]
          },
          "execution_count": 45,
          "metadata": {},
          "output_type": "execute_result"
        },
        {
          "data": {
            "image/png": "[encoded data removed]",
            "text/plain": [
              "<Figure size 1600x500 with 2 Axes>"
            ]
          },
          "metadata": {},
          "output_type": "display_data"
        }
      ],
      "source": [
        "import seaborn as sns\n",
        "import matplotlib.pyplot as plt\n",
        "plt.figure(figsize=(16,5))\n",
        "sns.heatmap(corr_matrix_df,\n",
        "            xticklabels=corr_matrix_df.columns.values,\n",
        "            yticklabels=corr_matrix_df.columns.values,  cmap=\"Greens\", annot=True)"
      ]
    },
    {
      "cell_type": "markdown",
      "metadata": {
        "id": "vXb5GoVpBlXb"
      },
      "source": [
        "Fit our data into the vectors"
      ]
    },
    {
      "cell_type": "code",
      "execution_count": null,
      "metadata": {
        "id": "inhf7s0vJf_k"
      },
      "outputs": [],
      "source": [
        "vector_assembler = VectorAssembler(inputCols = [\"Week\",'DayOfWeek'], outputCol=\"features\")\n",
        "vector_assembled_df = vector_assembler.transform(transformed_df)\n",
        "# vector_assembled_df.show()"
      ]
    },
    {
      "cell_type": "code",
      "execution_count": null,
      "metadata": {
        "id": "P5mpH-t3I6mg"
      },
      "outputs": [],
      "source": []
    },
    {
      "cell_type": "code",
      "execution_count": null,
      "metadata": {
        "id": "wXivW6ZKJrRB"
      },
      "outputs": [],
      "source": [
        "featureIndexer =  VectorIndexer(inputCol=\"features\", outputCol=\"indexedFeatures\").fit(vector_assembled_df)"
      ]
    },
    {
      "cell_type": "code",
      "execution_count": null,
      "metadata": {
        "id": "H_kdxqGyJuQa"
      },
      "outputs": [],
      "source": [
        "# labelIndexer = StringIndexer(inputCol=\"Primary_Type\", outputCol=\"indexedLabel\").fit(vector_assembled_df)\n",
        "# labelConverter = IndexToString(inputCol=\"prediction\", outputCol=\"predictedLabel\",\n",
        "#                                labels=labelIndexer.labels)\n",
        "\n",
        "\n",
        "labelIndexer = StringIndexer(inputCol=\"ViolentCrime\", outputCol=\"indexedLabel\").fit(vector_assembled_df)\n",
        "labelConverter = IndexToString(inputCol=\"prediction\", outputCol=\"predictedLabel\",\n",
        "                               labels=labelIndexer.labels)"
      ]
    },
    {
      "cell_type": "markdown",
      "metadata": {
        "id": "dvWopWc9AEYN"
      },
      "source": [
        "# **Traing & Test Data**\n",
        "\n",
        "Splitting the data into a training and a testing set with a ratio of 0.7 to 0.3 and configuring our model to utilize 100 decision trees and the Gini index to perform the right splits."
      ]
    },
    {
      "cell_type": "code",
      "execution_count": null,
      "metadata": {
        "id": "dHkQJTVDJ3qb"
      },
      "outputs": [],
      "source": [
        "(trainingData, testData) = vector_assembled_df.randomSplit([0.9, 0.1])\n",
        "rf  = RandomForestClassifier(labelCol=\"indexedLabel\",\n",
        "                             featuresCol=\"indexedFeatures\",\n",
        "                             numTrees=100,impurity='gini', maxBins=128)\n"
      ]
    },
    {
      "cell_type": "markdown",
      "metadata": {
        "id": "TXWK19CaBQdx"
      },
      "source": [
        "Create a pipeline to define the machine learning workflow and establish the different steps it will execute. This includes a Label Indexer, a Feature Indexer, a Random Forest model with the criterias we specified previously and a Label Converter"
      ]
    },
    {
      "cell_type": "code",
      "execution_count": null,
      "metadata": {
        "id": "bcMCFue9J-M1"
      },
      "outputs": [],
      "source": [
        "pipeline = Pipeline(stages=[labelIndexer, featureIndexer, rf,labelConverter])"
      ]
    },
    {
      "cell_type": "markdown",
      "metadata": {
        "id": "nhwGDZ3GCRDl"
      },
      "source": [
        "Fit the pipeline into the training and testing data"
      ]
    },
    {
      "cell_type": "code",
      "execution_count": null,
      "metadata": {
        "id": "PT7xFzLfKAOe"
      },
      "outputs": [],
      "source": [
        "model = pipeline.fit(trainingData)\n",
        "predictions = model.transform(testData)\n"
      ]
    },
    {
      "cell_type": "markdown",
      "metadata": {
        "id": "Anlrje4sCe7F"
      },
      "source": [
        "**Model Evaluation**\n",
        "\n",
        "Evaluate our model and establish how our classifier performed based on its accuracy and F1 score.\n",
        "\n",
        "**Accuracy** = 0.213314\n",
        "\n",
        "**F1 Score** = 0.075006"
      ]
    },
    {
      "cell_type": "code",
      "execution_count": null,
      "metadata": {
        "colab": {
          "base_uri": "https://localhost:8080/"
        },
        "id": "QwmH2lNoM7w-",
        "outputId": "d4a6f6bd-3b1f-4eb6-d9dd-e5109021bdca"
      },
      "outputs": [
        {
          "name": "stdout",
          "output_type": "stream",
          "text": [
            "accuracy = 0.537647\n",
            "f1 score = 0.495844\n"
          ]
        }
      ],
      "source": [
        "# predictions.select(\"predictedLabel\", \"Primary_Type\").show()\n",
        "\n",
        "# evaluator = MulticlassClassificationEvaluator(\n",
        "#     labelCol=\"indexedLabel\", predictionCol=\"prediction\", metricName=\"accuracy\")\n",
        "\n",
        "# evaluator2 = MulticlassClassificationEvaluator(\n",
        "#     labelCol=\"indexedLabel\", predictionCol=\"prediction\", metricName=\"f1\")\n",
        "\n",
        "\n",
        "# accuracy = evaluator.evaluate(predictions)\n",
        "# f1 = evaluator2.evaluate(predictions)\n",
        "\n",
        "\n",
        "# print(\"accuracy = %g\" % (accuracy))\n",
        "# print(\"f1 score = %g\" % (f1))\n",
        "\n",
        "# predictions.groupBy(\"predictedLabel\").count().show()\n",
        "\n",
        "\n",
        "\n",
        "\n",
        "# predictions.select(\"predictedLabel\", \"ViolentCrime\").show()\n",
        "\n",
        "evaluator = MulticlassClassificationEvaluator(\n",
        "    labelCol=\"indexedLabel\", predictionCol=\"prediction\", metricName=\"accuracy\")\n",
        "\n",
        "evaluator2 = MulticlassClassificationEvaluator(\n",
        "    labelCol=\"indexedLabel\", predictionCol=\"prediction\", metricName=\"f1\")\n",
        "\n",
        "\n",
        "accuracy = evaluator.evaluate(predictions)\n",
        "f1 = evaluator2.evaluate(predictions)\n",
        "\n",
        "\n",
        "print(\"accuracy = %g\" % (accuracy))\n",
        "print(\"f1 score = %g\" % (f1))\n",
        "\n",
        "# predictions.groupBy(\"predictedLabel\").count().show()"
      ]
    },
    {
      "cell_type": "markdown",
      "metadata": {
        "id": "47WdvrupCsv-"
      },
      "source": [
        "Prepare the categorical column \"Location Description\" and transforms it using One Hot Encoder"
      ]
    },
    {
      "cell_type": "code",
      "execution_count": null,
      "metadata": {
        "colab": {
          "base_uri": "https://localhost:8080/"
        },
        "id": "E9kuZUuJKERM",
        "outputId": "3be550f4-5cbc-44e3-879e-5c73e9f1e3c4"
      },
      "outputs": [
        {
          "name": "stdout",
          "output_type": "stream",
          "text": [
            "+--------------------+--------------------+----+--------------+----+------------+----+---------+------------------+--------------------------+----------+------------------+\n",
            "|        Primary_Type|Location Description|Beat|Community Area|Year|ViolentCrime|Week|DayOfWeek|Primary_Type_index|Location Description_index|Beat_index|ViolentCrime_index|\n",
            "+--------------------+--------------------+----+--------------+----+------------+----+---------+------------------+--------------------------+----------+------------------+\n",
            "|               THEFT|           RESIDENCE|0631|            44|2018|          No|  35|        7|               0.0|                       1.0|      14.0|               0.0|\n",
            "|           NARCOTICS|              STREET|0233|            41|2018|          No|  31|        3|               3.0|                       0.0|     177.0|               0.0|\n",
            "|     CRIMINAL DAMAGE|              STREET|2514|            19|2018|         Yes|  51|        4|               2.0|                       0.0|     117.0|               1.0|\n",
            "|  DECEPTIVE PRACTICE|               OTHER|0811|            56|2015|          No|   6|        2|               8.0|                       4.0|     169.0|               0.0|\n",
            "|  DECEPTIVE PRACTICE|           RESIDENCE|0412|            45|2001|          No|   1|        2|               8.0|                       1.0|      49.0|               0.0|\n",
            "|     CRIMINAL DAMAGE|           RESIDENCE|0222|            39|2015|         Yes|  36|        5|               2.0|                       1.0|     140.0|               1.0|\n",
            "|       OTHER OFFENSE|GOVERNMENT BUILDI...|0213|            35|2017|          No|  49|        2|               5.0|                      40.0|     204.0|               0.0|\n",
            "|  DECEPTIVE PRACTICE|           RESIDENCE|2515|            19|2018|          No|   1|        2|               8.0|                       1.0|      85.0|               0.0|\n",
            "|       OTHER OFFENSE|           RESIDENCE|1724|            14|2018|          No|  51|        5|               5.0|                       1.0|     195.0|               0.0|\n",
            "|  DECEPTIVE PRACTICE|           RESIDENCE|0631|            44|2018|          No|  13|        1|               8.0|                       1.0|      14.0|               0.0|\n",
            "|PUBLIC PEACE VIOL...|              STREET|1915|             3|2015|         Yes|  36|        7|              14.0|                       0.0|     288.0|               1.0|\n",
            "|           NARCOTICS|POLICE FACILITY/V...|1134|            29|2017|          No|  46|        6|               3.0|                      36.0|      75.0|               0.0|\n",
            "|  DECEPTIVE PRACTICE|           RESIDENCE|2222|            71|2014|          No|  22|        1|               8.0|                       1.0|      93.0|               0.0|\n",
            "|             BATTERY|     VACANT LOT/LAND|0224|            38|2015|         Yes|  36|        1|               1.0|                      31.0|     224.0|               1.0|\n",
            "|  DECEPTIVE PRACTICE|           APARTMENT|2515|            19|2018|          No|  51|        5|               8.0|                       2.0|      85.0|               0.0|\n",
            "|             BATTERY|            SIDEWALK|1123|            27|2015|         Yes|  36|        1|               1.0|                       3.0|      92.0|               1.0|\n",
            "| CRIM SEXUAL ASSAULT|           RESIDENCE|2222|            73|2017|         Yes|  40|        1|              16.0|                       1.0|      93.0|               1.0|\n",
            "|            BURGLARY|               OTHER|0835|            70|2017|          No|  13|        3|               6.0|                       4.0|      42.0|               0.0|\n",
            "|               THEFT|           RESIDENCE|0313|            42|2017|          No|  36|        7|               0.0|                       1.0|      62.0|               0.0|\n",
            "| CRIM SEXUAL ASSAULT|         HOTEL/MOTEL|0122|            32|2017|         Yes|  34|        7|              16.0|                      28.0|      26.0|               1.0|\n",
            "+--------------------+--------------------+----+--------------+----+------------+----+---------+------------------+--------------------------+----------+------------------+\n",
            "only showing top 20 rows\n",
            "\n"
          ]
        }
      ],
      "source": [
        "\n",
        "# from pyspark.ml.feature import OneHotEncoder\n",
        "# locationIndexer = StringIndexer(inputCol=\"Location Description\", outputCol=\"indexedLocation\")\\\n",
        "#                 .fit(transformed_df)\\\n",
        "#                 .transform(transformed_df)\n",
        "# encoded_data = OneHotEncoder(inputCols=[\"indexedLocation\"],outputCols=[\"encodedLocation\"])\\\n",
        "#         .fit(locationIndexer)\\\n",
        "#         .transform(locationIndexer)\n",
        "# transformed_df.show()"
      ]
    },
    {
      "cell_type": "markdown",
      "metadata": {
        "id": "WYkR_MtYDZ64"
      },
      "source": [
        "**Executing the following steps**\n",
        "\n",
        "*   Data preparation, model training, evaluation, and prediction.\n",
        "*   Using a Random Forest Classifier to predict the type of crime that was commited by the individual. The accuracy and F1-score are used to evaluate our model.\n",
        "\n",
        "**The findings**\n",
        "\n",
        "*   Our model has an accuracy of approximately 32.55% indicating that our model correctly predicted about 32.55% of the instances in the test data.\n",
        "*   Our F1 Score which evaluates the model in terms of both false positives and false negatives, turned out to be 0.216875.\n",
        "*   Our model predicted the labels \"THEFT\" 1,331,379 times, \"BATTERY\"  608,987 times, and \"NARCOTICS\" 204,640 times.\n",
        "\n",
        "**The count of \"THEFT\" predictions is significantly higher than the counts of other labels, indicating a potential class imbalance in the data**\n",
        "\n",
        "\n",
        "\n",
        "\n",
        "\n",
        "\n"
      ]
    },
    {
      "cell_type": "code",
      "execution_count": null,
      "metadata": {
        "id": "Lin3_EEavZe2"
      },
      "outputs": [],
      "source": [
        "# transformed_df.cache()\n",
        "# transformed_df.select(col('Block_index')).distinct().count()"
      ]
    },
    {
      "cell_type": "code",
      "execution_count": null,
      "metadata": {
        "id": "QNuIgN99Kbu9"
      },
      "outputs": [],
      "source": [
        "df_temp=transformed_df\n",
        "all_cols = ['Beat_index','Location Description_index','Community Area']\n",
        "# all_cols = ['Beat_index','Location Description_index','Community Area']\n",
        "vector_assembler = VectorAssembler(inputCols = all_cols, outputCol=\"features\")\n",
        "df_temp = vector_assembler.transform(df_temp)\n",
        "featureIndexer =\\\n",
        "    VectorIndexer(inputCol=\"features\", outputCol=\"indexedFeatures\").fit(df_temp)\n",
        "\n",
        "# labelIndexer = StringIndexer(inputCol=\"Primary_Type\", outputCol=\"indexedLabel\").fit(df_temp)\n",
        "labelIndexer = StringIndexer(inputCol=\"ViolentCrime\", outputCol=\"indexedLabel\").fit(df_temp)\n",
        "labelConverter = IndexToString(inputCol=\"prediction\", outputCol=\"predictedLabel\",\n",
        "                               labels=labelIndexer.labels)\n",
        "\n",
        "(trainingData, testData) = df_temp.randomSplit([0.9, 0.1])\n",
        "# rf = RandomForestClassifier(labelCol=\"indexedLabel\", featuresCol=\"indexedFeatures\", numTrees=10,impurity='gini', maxBins=32\n",
        "rf = RandomForestClassifier(labelCol=\"indexedLabel\", featuresCol=\"indexedFeatures\", numTrees=10,impurity='gini',maxBins=320)\n",
        "\n",
        "pipeline = Pipeline(stages=[labelIndexer, featureIndexer, rf,labelConverter])\n",
        "\n",
        "model = pipeline.fit(trainingData)"
      ]
    },
    {
      "cell_type": "code",
      "execution_count": null,
      "metadata": {
        "colab": {
          "base_uri": "https://localhost:8080/"
        },
        "id": "AOgoOGiJkGQe",
        "outputId": "4db747df-f759-41ab-c55a-9d734efaaa7f"
      },
      "outputs": [
        {
          "name": "stdout",
          "output_type": "stream",
          "text": [
            "accuracy = 0.588899\n",
            "f1 score = 0.579988\n"
          ]
        }
      ],
      "source": [
        "predictions = model.transform(testData)\n",
        "# predictions.select(\"predictedLabel\", \"Primary_Type\").show()\n",
        "\n",
        "evaluator = MulticlassClassificationEvaluator(\n",
        "    labelCol=\"indexedLabel\", predictionCol=\"prediction\", metricName=\"accuracy\")\n",
        "\n",
        "evaluator2 = MulticlassClassificationEvaluator(\n",
        "    labelCol=\"indexedLabel\", predictionCol=\"prediction\", metricName=\"f1\")\n",
        "\n",
        "\n",
        "accuracy = evaluator.evaluate(predictions)\n",
        "f1 = evaluator2.evaluate(predictions)\n",
        "\n",
        "print(\"accuracy = %g\" % (accuracy))\n",
        "print(\"f1 score = %g\" % (f1))\n",
        "\n",
        "# predictions.groupBy(\"predictedLabel\").count().show()"
      ]
    },
    {
      "cell_type": "code",
      "execution_count": null,
      "metadata": {
        "id": "HpXbAh4PKkZ1"
      },
      "outputs": [],
      "source": [
        "# from pyspark.sql.types import IntegerType\n",
        "# transformed_df = transformed_df.withColumn(\"Ward\", transformed_df[\"Ward\"].cast(IntegerType()))\n"
      ]
    },
    {
      "cell_type": "code",
      "execution_count": null,
      "metadata": {
        "id": "sj51WaBTKlNw"
      },
      "outputs": [],
      "source": [
        "# from pyspark.ml.feature import OneHotEncoder\n",
        "# locationIndexer = StringIndexer(inputCol=\"Location Description\", outputCol=\"indexedLocation\")\\\n",
        "#                 .fit(transformed_df)\\\n",
        "#                 .transform(transformed_df)\n",
        "# encoded_data = OneHotEncoder(inputCols=[\"indexedLocation\"],outputCols=[\"encodedLocation\"])\\\n",
        "#         .fit(locationIndexer)\\\n",
        "#         .transform(locationIndexer)"
      ]
    },
    {
      "cell_type": "markdown",
      "metadata": {
        "id": "SLx-zTHWGoQG"
      },
      "source": [
        "Import the libraries\n",
        "\n",
        "1.   CrossValidator (to perform cross-validation)\n",
        "2.   ParamGridBuilder (to build a grid of hyperparameters)\n",
        "\n",
        "\n",
        "**Tune hyperparameters using cross-validation to find the best-performing Random Forest model by trying different combinations. This will allow us to optimize the model's performance and improve upon the previous results**\n",
        "\n"
      ]
    },
    {
      "cell_type": "code",
      "execution_count": null,
      "metadata": {
        "colab": {
          "base_uri": "https://localhost:8080/"
        },
        "id": "saMJHh5pKm4p",
        "outputId": "90b4356a-18a5-4f0e-d4c2-804336ea43b6"
      },
      "outputs": [
        {
          "name": "stdout",
          "output_type": "stream",
          "text": [
            "accuracy = 0.611381\n",
            "f1 score = 0.604148\n",
            "RandomForestClassifier_34174863d0af__bootstrap\tTrue\n",
            "RandomForestClassifier_34174863d0af__cacheNodeIds\tFalse\n",
            "RandomForestClassifier_34174863d0af__checkpointInterval\t10\n",
            "RandomForestClassifier_34174863d0af__featureSubsetStrategy\tauto\n",
            "RandomForestClassifier_34174863d0af__featuresCol\tindexedFeatures\n",
            "RandomForestClassifier_34174863d0af__impurity\tentropy\n",
            "RandomForestClassifier_34174863d0af__labelCol\tindexedLabel\n",
            "RandomForestClassifier_34174863d0af__leafCol\t\n",
            "RandomForestClassifier_34174863d0af__maxBins\t320\n",
            "RandomForestClassifier_34174863d0af__maxDepth\t10\n",
            "RandomForestClassifier_34174863d0af__maxMemoryInMB\t256\n",
            "RandomForestClassifier_34174863d0af__minInfoGain\t0.0\n",
            "RandomForestClassifier_34174863d0af__minInstancesPerNode\t1\n",
            "RandomForestClassifier_34174863d0af__minWeightFractionPerNode\t0.0\n",
            "RandomForestClassifier_34174863d0af__numTrees\t10\n",
            "RandomForestClassifier_34174863d0af__predictionCol\tprediction\n",
            "RandomForestClassifier_34174863d0af__probabilityCol\tprobability\n",
            "RandomForestClassifier_34174863d0af__rawPredictionCol\trawPrediction\n",
            "RandomForestClassifier_34174863d0af__seed\t-5498284332900169774\n",
            "RandomForestClassifier_34174863d0af__subsamplingRate\t1.0\n"
          ]
        }
      ],
      "source": [
        "from pyspark.ml.tuning import CrossValidator, ParamGridBuilder\n",
        "\n",
        "vector_assembler = VectorAssembler(inputCols = all_cols + ['DayOfWeek','Week'], outputCol=\"features\")\n",
        "\n",
        "indexed_data = vector_assembler.transform(transformed_df)\n",
        "featureIndexer =\\\n",
        "    VectorIndexer(inputCol=\"features\", outputCol=\"indexedFeatures\").fit(indexed_data)\n",
        "\n",
        "\n",
        "labelIndexer = StringIndexer(inputCol=\"ViolentCrime\", outputCol=\"indexedLabel\").fit(indexed_data)\n",
        "labelConverter = IndexToString(inputCol=\"prediction\", outputCol=\"predictedLabel\",\n",
        "                               labels=labelIndexer.labels)\n",
        "\n",
        "\n",
        "(trainingData, testData) = indexed_data.randomSplit([0.9, 0.1])\n",
        "rf = RandomForestClassifier(labelCol=\"indexedLabel\", featuresCol=\"indexedFeatures\")\n",
        "\n",
        "pipeline = Pipeline(stages=[labelIndexer, featureIndexer, rf,labelConverter])\n",
        "\n",
        "paramGrid = ParamGridBuilder()\\\n",
        "            .addGrid(rf.numTrees, [3,10])\\\n",
        "            .addGrid(rf.maxBins, [320,340])\\\n",
        "            .addGrid(rf.maxDepth, [5,10])\\\n",
        "            .addGrid(rf.impurity,['gini','entropy'])\\\n",
        "            .build()\n",
        "\n",
        "evaluator = MulticlassClassificationEvaluator(\n",
        "    labelCol=\"indexedLabel\", predictionCol=\"prediction\", metricName=\"accuracy\")\n",
        "\n",
        "crossval = CrossValidator(\\\n",
        "                          estimator=pipeline,\\\n",
        "                         estimatorParamMaps=paramGrid,\\\n",
        "                         evaluator=evaluator,\\\n",
        "                         numFolds=4)\n",
        "\n",
        "\n",
        "model = crossval.fit(trainingData)\n",
        "\n",
        "\n",
        "predictions = model.transform(testData)\n",
        "# predictions.select(\"predictedLabel\", \"Primary_Type\").show()\n",
        "\n",
        "evaluator2 = MulticlassClassificationEvaluator(\n",
        "    labelCol=\"indexedLabel\", predictionCol=\"prediction\", metricName=\"f1\")\n",
        "accuracy = evaluator.evaluate(predictions)\n",
        "f1 = evaluator2.evaluate(predictions)\n",
        "print(\"accuracy = %g\" % (accuracy))\n",
        "print(\"f1 score = %g\" % (f1))\n",
        "\n",
        "# predictions.groupBy(\"predictedLabel\").count().show()\n",
        "\n",
        "bestPipeline = model.bestModel\n",
        "bestLRModel = bestPipeline.stages[2]\n",
        "bestParams = bestLRModel.extractParamMap()\n",
        "print(\"\\n\".join(\"{}\\t{}\".format(k, v) for k, v in bestParams.items()))"
      ]
    },
    {
      "cell_type": "code",
      "execution_count": null,
      "metadata": {
        "id": "m7RvEt5IR5AR"
      },
      "outputs": [],
      "source": []
    }
  ],
  "metadata": {
    "colab": {
      "provenance": []
    },
    "kernelspec": {
      "display_name": "Python 3",
      "name": "python3"
    },
    "language_info": {
      "name": "python"
    }
  },
  "nbformat": 4,
  "nbformat_minor": 0
}